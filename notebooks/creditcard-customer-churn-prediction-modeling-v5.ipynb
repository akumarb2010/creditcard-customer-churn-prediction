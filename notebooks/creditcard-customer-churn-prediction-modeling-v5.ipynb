{
 "cells": [
  {
   "cell_type": "markdown",
   "id": "b4e1e034-1c66-457d-9639-efca3121bca4",
   "metadata": {},
   "source": [
    "# Credit Card Customer Churn Prediction Modeling"
   ]
  },
  {
   "cell_type": "markdown",
   "id": "4740a36d-266b-4f9d-9f54-71a84e78812f",
   "metadata": {},
   "source": [
    "## Overview\n",
    "\n",
    "Banks marketing teams invest a large amount of money for acquiring new credit card customers by launching lots of campaigns and offers, so it's crucial to retain existing customers.\n",
    "\n",
    "Effective predictive ML models enables the business to pro-actively identify the risk of customer churn and provide any required offers to prevent customer churn."
   ]
  },
  {
   "cell_type": "markdown",
   "id": "686d7e24-6bbd-42f9-b0b9-4006983897ee",
   "metadata": {},
   "source": [
    "## Approach\n",
    "\n",
    "In order to achieve objective, I will follow below **CRISP-DM** framework steps\n",
    "\n",
    "As part of this modeling notebook, will cover steps from 5 to 10 and for EDA please refer [EDA notebook](creditcard-customer-churn-prediction-EDA.ipynb)\n",
    "\n",
    "1. **Business Understanding :** Define and understand the business problem \n",
    "2. **Data Understanding :** Understand the credit card input dataset and derive statistical inferences\n",
    "3. **Data Preparation :** \n",
    "    - Perform required high level data cleaning techniques\n",
    "4. **Exploratory Data Analysis(EDA) :** Perform the EDA on credit card dataset\n",
    "    - Categorical feature distributions\n",
    "    - Numerical feature distributions\n",
    "    - Feature vs Target variable relationships\n",
    "    - Correlation Analysis\n",
    "    - Finalizing the Feature list\n",
    "5. **Prediction Modeling :**\n",
    "    - *Feature Engineering* :\n",
    "        - Pre processing\n",
    "        - Encoding\n",
    "          - Robust Scalar Encoding\n",
    "          - Onehot Encoding (For nominal categorical type features)\n",
    "          - Ordinal Encoding (For ordinal categorical type features)\n",
    "        - Splitting into training and testing sets\n",
    "    - *Predictive Modeling*\n",
    "        - Model selection approach\n",
    "        - Model evaluation measures\n",
    "        - Model Evaluation criteria\n",
    "        - Training linear and tree based models (like Decision Tree/Gradient Boosting/Random Forest/LGBM)\n",
    "        - Training with cross validation\n",
    "6. **Model Performance Evaluation :**\n",
    "    - Evaluate the performances of linear and tree based classification model scores and finalize the best model\n",
    "7. **Hyperparameter Tuning :**\n",
    "    - Tuning by using RandomizedSearchCV\n",
    "    - Tuning by using Bayesian Optimization\n",
    "8. **Results :**\n",
    "    - Individual feature impact on finalized LGBM model prediction\n",
    "9. **Future Work :**\n",
    "10. **Conclusion :**\n",
    "    - Business sugessions"
   ]
  },
  {
   "cell_type": "markdown",
   "id": "a8d62c80-c472-43b5-ab26-f4e90819d56d",
   "metadata": {},
   "source": [
    "## 5. Prediction Modeling"
   ]
  },
  {
   "cell_type": "code",
   "execution_count": 12,
   "id": "fd179a55-22f7-4b5f-b5e9-3968d0a73001",
   "metadata": {},
   "outputs": [],
   "source": [
    "import pandas as pd\n",
    "import numpy as np\n",
    "\n",
    "# For visualization\n",
    "import matplotlib.pyplot as plt\n",
    "import seaborn as sns\n",
    "\n",
    "# Filter warnings.\n",
    "import warnings\n",
    "warnings.filterwarnings('ignore')\n",
    "\n",
    "# Libraries for feature engineering and modeling\n",
    "\n",
    "# For feature engineering/pre processing\n",
    "from sklearn.preprocessing import OneHotEncoder, LabelEncoder, StandardScaler, MinMaxScaler, OrdinalEncoder, TargetEncoder, RobustScaler\n",
    "from sklearn.impute import SimpleImputer\n",
    "from sklearn.compose import ColumnTransformer\n",
    "\n",
    "# For modeling\n",
    "from sklearn.model_selection import train_test_split, StratifiedKFold, cross_val_score\n",
    "from sklearn.linear_model import LinearRegression\n",
    "from sklearn.tree import DecisionTreeRegressor\n",
    "from sklearn.ensemble import GradientBoostingRegressor, RandomForestRegressor\n",
    "from sklearn.model_selection import RandomizedSearchCV\n",
    "from sklearn.model_selection import GridSearchCV\n",
    "from sklearn.svm import LinearSVC\n",
    "from sklearn.neighbors import KNeighborsClassifier\n",
    "from sklearn.ensemble import RandomForestClassifier\n",
    "from sklearn.pipeline import Pipeline\n",
    "\n",
    "# Feature selection\n",
    "from sklearn.feature_selection import RFE\n",
    "\n",
    "# For model perf measurement\n",
    "from sklearn.metrics import mean_absolute_error, mean_squared_error, r2_score\n",
    "from sklearn.model_selection import cross_val_score"
   ]
  },
  {
   "cell_type": "markdown",
   "id": "66642e2f-e61d-4d37-9432-203be42ba314",
   "metadata": {},
   "source": [
    "### 5.1 Feature Engineering "
   ]
  },
  {
   "cell_type": "code",
   "execution_count": 15,
   "id": "c7caf25d-8fa3-4b1f-975e-bd41ed566328",
   "metadata": {},
   "outputs": [],
   "source": [
    "#### Common Classes\n",
    "class ColumnDropperTransformer():\n",
    "    '''\n",
    "        Column Dropping Tranformer \n",
    "    '''\n",
    "    def __init__(self,columns):\n",
    "        '''\n",
    "         Constructore Arguments:\n",
    "            columns: column list which needs to be dropped\n",
    "        '''\n",
    "        self.columns=columns\n",
    "\n",
    "    def transform(self,X,y=None):\n",
    "        '''\n",
    "        Dataframe transformer\n",
    "\n",
    "        X: Input dataframe\n",
    "\n",
    "        returns: dataframe post dropping the given list of columns\n",
    "        '''\n",
    "        return X.drop(self.columns,axis=1)\n",
    "\n",
    "    def fit(self, X, y=None):\n",
    "        '''\n",
    "        Identity method\n",
    "        '''\n",
    "        return self \n",
    "\n",
    "    def get_feature_names_out(self, feature_names):\n",
    "        return [col for col in feature_names if col not in self.columns]"
   ]
  },
  {
   "cell_type": "markdown",
   "id": "b0566196-d8bb-4528-9e43-078234cf4771",
   "metadata": {},
   "source": [
    "#### 5.1.1 Pre Processing"
   ]
  },
  {
   "cell_type": "code",
   "execution_count": 18,
   "id": "903a0710-8acc-40a7-8bf3-1f9c4b9e9175",
   "metadata": {},
   "outputs": [
    {
     "name": "stdout",
     "output_type": "stream",
     "text": [
      "<class 'pandas.core.frame.DataFrame'>\n",
      "RangeIndex: 10127 entries, 0 to 10126\n",
      "Data columns (total 21 columns):\n",
      " #   Column                    Non-Null Count  Dtype  \n",
      "---  ------                    --------------  -----  \n",
      " 0   Unnamed: 0                10127 non-null  int64  \n",
      " 1   attrition_flag            10127 non-null  object \n",
      " 2   customer_age              10127 non-null  int64  \n",
      " 3   gender                    10127 non-null  object \n",
      " 4   dependent_count           10127 non-null  int64  \n",
      " 5   education_level           10127 non-null  object \n",
      " 6   marital_status            10127 non-null  object \n",
      " 7   income_category           10127 non-null  object \n",
      " 8   card_category             10127 non-null  object \n",
      " 9   months_on_book            10127 non-null  int64  \n",
      " 10  total_relationship_count  10127 non-null  int64  \n",
      " 11  months_inactive_12_mon    10127 non-null  int64  \n",
      " 12  contacts_count_12_mon     10127 non-null  int64  \n",
      " 13  credit_limit              10127 non-null  float64\n",
      " 14  total_revolving_bal       10127 non-null  int64  \n",
      " 15  avg_open_to_buy           10127 non-null  float64\n",
      " 16  total_amt_chng_q4_q1      10127 non-null  float64\n",
      " 17  total_trans_amt           10127 non-null  int64  \n",
      " 18  total_trans_ct            10127 non-null  int64  \n",
      " 19  total_ct_chng_q4_q1       10127 non-null  float64\n",
      " 20  avg_utilization_ratio     10127 non-null  float64\n",
      "dtypes: float64(5), int64(10), object(6)\n",
      "memory usage: 1.6+ MB\n"
     ]
    }
   ],
   "source": [
    "# read processed data\n",
    "credicard_df=pd.read_csv('../data/bank_churners_updated.csv')\n",
    "credicard_df.info()"
   ]
  },
  {
   "cell_type": "code",
   "execution_count": 20,
   "id": "8c6c107c-e14a-41d7-b329-7417fe3d7e0e",
   "metadata": {},
   "outputs": [
    {
     "data": {
      "text/html": [
       "<div>\n",
       "<style scoped>\n",
       "    .dataframe tbody tr th:only-of-type {\n",
       "        vertical-align: middle;\n",
       "    }\n",
       "\n",
       "    .dataframe tbody tr th {\n",
       "        vertical-align: top;\n",
       "    }\n",
       "\n",
       "    .dataframe thead th {\n",
       "        text-align: right;\n",
       "    }\n",
       "</style>\n",
       "<table border=\"1\" class=\"dataframe\">\n",
       "  <thead>\n",
       "    <tr style=\"text-align: right;\">\n",
       "      <th></th>\n",
       "      <th>Unnamed: 0</th>\n",
       "      <th>attrition_flag</th>\n",
       "      <th>customer_age</th>\n",
       "      <th>gender</th>\n",
       "      <th>dependent_count</th>\n",
       "      <th>education_level</th>\n",
       "      <th>marital_status</th>\n",
       "      <th>income_category</th>\n",
       "      <th>card_category</th>\n",
       "      <th>months_on_book</th>\n",
       "      <th>...</th>\n",
       "      <th>months_inactive_12_mon</th>\n",
       "      <th>contacts_count_12_mon</th>\n",
       "      <th>credit_limit</th>\n",
       "      <th>total_revolving_bal</th>\n",
       "      <th>avg_open_to_buy</th>\n",
       "      <th>total_amt_chng_q4_q1</th>\n",
       "      <th>total_trans_amt</th>\n",
       "      <th>total_trans_ct</th>\n",
       "      <th>total_ct_chng_q4_q1</th>\n",
       "      <th>avg_utilization_ratio</th>\n",
       "    </tr>\n",
       "  </thead>\n",
       "  <tbody>\n",
       "    <tr>\n",
       "      <th>0</th>\n",
       "      <td>0</td>\n",
       "      <td>Existing Customer</td>\n",
       "      <td>45</td>\n",
       "      <td>M</td>\n",
       "      <td>3</td>\n",
       "      <td>High School</td>\n",
       "      <td>Married</td>\n",
       "      <td>$60K - $80K</td>\n",
       "      <td>Blue</td>\n",
       "      <td>39</td>\n",
       "      <td>...</td>\n",
       "      <td>1</td>\n",
       "      <td>3</td>\n",
       "      <td>12691.0</td>\n",
       "      <td>777</td>\n",
       "      <td>11914.0</td>\n",
       "      <td>1.335</td>\n",
       "      <td>1144</td>\n",
       "      <td>42</td>\n",
       "      <td>1.625</td>\n",
       "      <td>0.061</td>\n",
       "    </tr>\n",
       "    <tr>\n",
       "      <th>1</th>\n",
       "      <td>1</td>\n",
       "      <td>Existing Customer</td>\n",
       "      <td>49</td>\n",
       "      <td>F</td>\n",
       "      <td>5</td>\n",
       "      <td>Graduate</td>\n",
       "      <td>Single</td>\n",
       "      <td>Less than $40K</td>\n",
       "      <td>Blue</td>\n",
       "      <td>44</td>\n",
       "      <td>...</td>\n",
       "      <td>1</td>\n",
       "      <td>2</td>\n",
       "      <td>8256.0</td>\n",
       "      <td>864</td>\n",
       "      <td>7392.0</td>\n",
       "      <td>1.541</td>\n",
       "      <td>1291</td>\n",
       "      <td>33</td>\n",
       "      <td>3.714</td>\n",
       "      <td>0.105</td>\n",
       "    </tr>\n",
       "    <tr>\n",
       "      <th>2</th>\n",
       "      <td>2</td>\n",
       "      <td>Existing Customer</td>\n",
       "      <td>51</td>\n",
       "      <td>M</td>\n",
       "      <td>3</td>\n",
       "      <td>Graduate</td>\n",
       "      <td>Married</td>\n",
       "      <td>$80K - $120K</td>\n",
       "      <td>Blue</td>\n",
       "      <td>36</td>\n",
       "      <td>...</td>\n",
       "      <td>1</td>\n",
       "      <td>0</td>\n",
       "      <td>3418.0</td>\n",
       "      <td>0</td>\n",
       "      <td>3418.0</td>\n",
       "      <td>2.594</td>\n",
       "      <td>1887</td>\n",
       "      <td>20</td>\n",
       "      <td>2.333</td>\n",
       "      <td>0.000</td>\n",
       "    </tr>\n",
       "    <tr>\n",
       "      <th>3</th>\n",
       "      <td>3</td>\n",
       "      <td>Existing Customer</td>\n",
       "      <td>40</td>\n",
       "      <td>F</td>\n",
       "      <td>4</td>\n",
       "      <td>High School</td>\n",
       "      <td>Unknown</td>\n",
       "      <td>Less than $40K</td>\n",
       "      <td>Blue</td>\n",
       "      <td>34</td>\n",
       "      <td>...</td>\n",
       "      <td>4</td>\n",
       "      <td>1</td>\n",
       "      <td>3313.0</td>\n",
       "      <td>2517</td>\n",
       "      <td>796.0</td>\n",
       "      <td>1.405</td>\n",
       "      <td>1171</td>\n",
       "      <td>20</td>\n",
       "      <td>2.333</td>\n",
       "      <td>0.760</td>\n",
       "    </tr>\n",
       "    <tr>\n",
       "      <th>4</th>\n",
       "      <td>4</td>\n",
       "      <td>Existing Customer</td>\n",
       "      <td>40</td>\n",
       "      <td>M</td>\n",
       "      <td>3</td>\n",
       "      <td>Uneducated</td>\n",
       "      <td>Married</td>\n",
       "      <td>$60K - $80K</td>\n",
       "      <td>Blue</td>\n",
       "      <td>21</td>\n",
       "      <td>...</td>\n",
       "      <td>1</td>\n",
       "      <td>0</td>\n",
       "      <td>4716.0</td>\n",
       "      <td>0</td>\n",
       "      <td>4716.0</td>\n",
       "      <td>2.175</td>\n",
       "      <td>816</td>\n",
       "      <td>28</td>\n",
       "      <td>2.500</td>\n",
       "      <td>0.000</td>\n",
       "    </tr>\n",
       "  </tbody>\n",
       "</table>\n",
       "<p>5 rows × 21 columns</p>\n",
       "</div>"
      ],
      "text/plain": [
       "   Unnamed: 0     attrition_flag  customer_age gender  dependent_count  \\\n",
       "0           0  Existing Customer            45      M                3   \n",
       "1           1  Existing Customer            49      F                5   \n",
       "2           2  Existing Customer            51      M                3   \n",
       "3           3  Existing Customer            40      F                4   \n",
       "4           4  Existing Customer            40      M                3   \n",
       "\n",
       "  education_level marital_status income_category card_category  \\\n",
       "0     High School        Married     $60K - $80K          Blue   \n",
       "1        Graduate         Single  Less than $40K          Blue   \n",
       "2        Graduate        Married    $80K - $120K          Blue   \n",
       "3     High School        Unknown  Less than $40K          Blue   \n",
       "4      Uneducated        Married     $60K - $80K          Blue   \n",
       "\n",
       "   months_on_book  ...  months_inactive_12_mon  contacts_count_12_mon  \\\n",
       "0              39  ...                       1                      3   \n",
       "1              44  ...                       1                      2   \n",
       "2              36  ...                       1                      0   \n",
       "3              34  ...                       4                      1   \n",
       "4              21  ...                       1                      0   \n",
       "\n",
       "   credit_limit  total_revolving_bal  avg_open_to_buy  total_amt_chng_q4_q1  \\\n",
       "0       12691.0                  777          11914.0                 1.335   \n",
       "1        8256.0                  864           7392.0                 1.541   \n",
       "2        3418.0                    0           3418.0                 2.594   \n",
       "3        3313.0                 2517            796.0                 1.405   \n",
       "4        4716.0                    0           4716.0                 2.175   \n",
       "\n",
       "   total_trans_amt  total_trans_ct  total_ct_chng_q4_q1  avg_utilization_ratio  \n",
       "0             1144              42                1.625                  0.061  \n",
       "1             1291              33                3.714                  0.105  \n",
       "2             1887              20                2.333                  0.000  \n",
       "3             1171              20                2.333                  0.760  \n",
       "4              816              28                2.500                  0.000  \n",
       "\n",
       "[5 rows x 21 columns]"
      ]
     },
     "execution_count": 20,
     "metadata": {},
     "output_type": "execute_result"
    }
   ],
   "source": [
    "credicard_df.head()"
   ]
  },
  {
   "cell_type": "markdown",
   "id": "c107826a-0cd6-412a-91a7-a8a41cc5b7d0",
   "metadata": {},
   "source": [
    "##### Drop un necessary features\n",
    "Based on EDA, we have observed that `gender` and `avg_open_to_buy` have no impact on churn, so these can dropped\n"
   ]
  },
  {
   "cell_type": "markdown",
   "id": "73550fc2-fe62-4577-9603-7643b7634125",
   "metadata": {},
   "source": [
    "##### Transforming the feature values"
   ]
  },
  {
   "cell_type": "code",
   "execution_count": 24,
   "id": "07d5bfb2-d7dd-473b-9834-004ecc44b649",
   "metadata": {},
   "outputs": [
    {
     "data": {
      "text/plain": [
       "array(['$60K - $80K', 'Less than $40K', '$80K - $120K', '$40K - $60K',\n",
       "       '$120K +', 'Unknown'], dtype=object)"
      ]
     },
     "execution_count": 24,
     "metadata": {},
     "output_type": "execute_result"
    }
   ],
   "source": [
    "credicard_df['income_category'].unique()"
   ]
  },
  {
   "cell_type": "code",
   "execution_count": 26,
   "id": "beaec82a-d392-48d3-ad96-c5ddd8956150",
   "metadata": {},
   "outputs": [
    {
     "data": {
      "text/plain": [
       "array(['High School', 'Graduate', 'Uneducated', 'Unknown', 'College',\n",
       "       'Post-Graduate', 'Doctorate'], dtype=object)"
      ]
     },
     "execution_count": 26,
     "metadata": {},
     "output_type": "execute_result"
    }
   ],
   "source": [
    "credicard_df['education_level'].unique()"
   ]
  },
  {
   "cell_type": "code",
   "execution_count": 28,
   "id": "55c0a92d-d1a1-43ae-838a-70a83b93a30c",
   "metadata": {},
   "outputs": [
    {
     "data": {
      "text/plain": [
       "array(['Blue', 'Gold', 'Silver', 'Platinum'], dtype=object)"
      ]
     },
     "execution_count": 28,
     "metadata": {},
     "output_type": "execute_result"
    }
   ],
   "source": [
    "credicard_df['card_category'].unique()"
   ]
  },
  {
   "cell_type": "code",
   "execution_count": 30,
   "id": "758a3e72-e248-43a7-98b3-7f492296a66a",
   "metadata": {},
   "outputs": [],
   "source": [
    "income_category_mapping = {'Less than $40K': '[$0K_$40K)', '$40K - $60K': '[$40K_$60K)', \n",
    "                           '$60K - $80K': '[$60K_$80K)', '$80K - $120K': '[$80K_$120K)',\n",
    "                           '$120K +': '[$120K_infi)','Unknown':'Unknown'\n",
    "                          }\n",
    "credicard_df.loc[:, 'income_category'] = credicard_df['income_category'].replace(income_category_mapping)"
   ]
  },
  {
   "cell_type": "markdown",
   "id": "e5e7131f-5496-4a39-9fd1-2ac8135046b5",
   "metadata": {},
   "source": [
    "#### transforming the target variable into int type"
   ]
  },
  {
   "cell_type": "code",
   "execution_count": 33,
   "id": "fb297436-6329-4a53-8e9a-b6d386d0199c",
   "metadata": {},
   "outputs": [
    {
     "data": {
      "text/plain": [
       "array([0, 1])"
      ]
     },
     "execution_count": 33,
     "metadata": {},
     "output_type": "execute_result"
    }
   ],
   "source": [
    "# updating the attrition_flag to binary 0/1 flag\n",
    "attrition_mapping = {'Existing Customer': 0, 'Attrited Customer': 1}\n",
    "credicard_df.loc[:, 'attrition_flag'] = credicard_df['attrition_flag'].replace(attrition_mapping)\n",
    "# As we know all the df attrition flag values are convertable to int without any loss\n",
    "credicard_df['attrition_flag'] = pd.to_numeric(credicard_df['attrition_flag'], errors='coerce').fillna(0).astype(int)\n",
    "credicard_df['attrition_flag'].unique()"
   ]
  },
  {
   "cell_type": "markdown",
   "id": "141c2c8d-9e41-4658-b7ee-fb90c4bc1ae2",
   "metadata": {},
   "source": [
    "##### Dropping the un necessary features\n"
   ]
  },
  {
   "cell_type": "code",
   "execution_count": 36,
   "id": "12fb2990-9886-4a13-8a5d-fa440fefe1b1",
   "metadata": {},
   "outputs": [],
   "source": [
    "features_to_drop = ['avg_open_to_buy', 'gender','Unnamed: 0']\n",
    "credicard_df = credicard_df.drop(columns=features_to_drop, axis=1)"
   ]
  },
  {
   "cell_type": "code",
   "execution_count": 38,
   "id": "9174909f-dcb6-44d0-b21d-631642f6b912",
   "metadata": {},
   "outputs": [
    {
     "name": "stdout",
     "output_type": "stream",
     "text": [
      "<class 'pandas.core.frame.DataFrame'>\n",
      "RangeIndex: 10127 entries, 0 to 10126\n",
      "Data columns (total 18 columns):\n",
      " #   Column                    Non-Null Count  Dtype  \n",
      "---  ------                    --------------  -----  \n",
      " 0   attrition_flag            10127 non-null  int64  \n",
      " 1   customer_age              10127 non-null  int64  \n",
      " 2   dependent_count           10127 non-null  int64  \n",
      " 3   education_level           10127 non-null  object \n",
      " 4   marital_status            10127 non-null  object \n",
      " 5   income_category           10127 non-null  object \n",
      " 6   card_category             10127 non-null  object \n",
      " 7   months_on_book            10127 non-null  int64  \n",
      " 8   total_relationship_count  10127 non-null  int64  \n",
      " 9   months_inactive_12_mon    10127 non-null  int64  \n",
      " 10  contacts_count_12_mon     10127 non-null  int64  \n",
      " 11  credit_limit              10127 non-null  float64\n",
      " 12  total_revolving_bal       10127 non-null  int64  \n",
      " 13  total_amt_chng_q4_q1      10127 non-null  float64\n",
      " 14  total_trans_amt           10127 non-null  int64  \n",
      " 15  total_trans_ct            10127 non-null  int64  \n",
      " 16  total_ct_chng_q4_q1       10127 non-null  float64\n",
      " 17  avg_utilization_ratio     10127 non-null  float64\n",
      "dtypes: float64(4), int64(10), object(4)\n",
      "memory usage: 1.4+ MB\n"
     ]
    }
   ],
   "source": [
    "credicard_df.info()"
   ]
  },
  {
   "cell_type": "markdown",
   "id": "8814e538-a4af-4a7a-bb71-ef98d77d1072",
   "metadata": {},
   "source": [
    "### 5.1.2 Encoding"
   ]
  },
  {
   "cell_type": "code",
   "execution_count": 41,
   "id": "b3c4e22a-1ce2-4dbb-abcd-34b089456d63",
   "metadata": {},
   "outputs": [
    {
     "data": {
      "text/plain": [
       "(10127, 21)"
      ]
     },
     "execution_count": 41,
     "metadata": {},
     "output_type": "execute_result"
    }
   ],
   "source": [
    "nominal_features = ['marital_status']\n",
    "\n",
    "ordinal_features = ['income_category', 'education_level', 'card_category']\n",
    "\n",
    "# low to high \n",
    "income_category_order = ['Unknown', '[$0K_$40K)', '[$40K_$60K)', '[$60K_$80K)', '[$80K_$120K)',  '[$120K_infi)']\n",
    "education_category_order = ['Unknown', 'Uneducated', 'High School', 'College', 'Graduate', 'Post-Graduate', 'Doctorate']\n",
    "card_category_order = ['Blue', 'Silver', 'Gold', 'Platinum']\n",
    "\n",
    "numerical_features = [\n",
    "                        'customer_age',\n",
    "                        'dependent_count', \n",
    "                        'months_on_book', \n",
    "                        'total_relationship_count', \n",
    "                        'months_inactive_12_mon', \n",
    "                        'contacts_count_12_mon', \n",
    "                        'credit_limit', \n",
    "                        'total_revolving_bal',  \n",
    "                        'total_amt_chng_q4_q1', \n",
    "                        'total_trans_amt', \n",
    "                        'total_trans_ct', \n",
    "                        'total_ct_chng_q4_q1']\n",
    "\n",
    "# features to drop\n",
    "column_dropping_transformer = Pipeline(steps=[\n",
    "    ('columns_dropper_tranformation', ColumnDropperTransformer(features_to_drop))\n",
    "])\n",
    "\n",
    "\n",
    "# numerical feature transformer\n",
    "numerical_transformer = Pipeline(steps=[\n",
    "    ('standard_scaling_endoder', StandardScaler())\n",
    "])\n",
    "\n",
    "min_max_scaler_transformation = Pipeline(steps=[\n",
    "    ('min_max_scaler', MinMaxScaler())\n",
    "])\n",
    "\n",
    "robust_scaler_transformation = Pipeline(steps = [\n",
    "    ('robust_scaler', RobustScaler(with_centering=False, with_scaling=True))\n",
    "])\n",
    "\n",
    "\n",
    "# categorical feature transformer\n",
    "nominal_feature_transformer = Pipeline(steps=[\n",
    "    ('one_hot_encoder', OneHotEncoder(handle_unknown='ignore'))\n",
    "])\n",
    "\n",
    "# For ordinal categorigacal features\n",
    "ordinal_encoding_transformer = Pipeline(steps=[\n",
    "    ('ordinal_encoder', OrdinalEncoder(categories=[income_category_order, education_category_order, card_category_order]))\n",
    "])\n",
    "\n",
    "# Bundle preprocessing for numerical and categorical data\n",
    "# robust_scaler\n",
    "preprocessor = ColumnTransformer(\n",
    "    transformers=[\n",
    "        ('scaled', robust_scaler_transformation, numerical_features),\n",
    "        ('onehot', nominal_feature_transformer, nominal_features),\n",
    "        ('label', ordinal_encoding_transformer, ordinal_features),\n",
    "        ], remainder='passthrough', verbose_feature_names_out=False\n",
    "    )\n",
    "\n",
    "credicard_df_transformed_array = preprocessor.fit_transform(credicard_df)\n",
    "credicard_df_new = pd.DataFrame(credicard_df_transformed_array, columns = preprocessor.get_feature_names_out())\n",
    "credicard_df_new.shape"
   ]
  },
  {
   "cell_type": "code",
   "execution_count": 43,
   "id": "bbf4eeb1-de4a-4843-af27-0ddbed916cb6",
   "metadata": {},
   "outputs": [
    {
     "name": "stdout",
     "output_type": "stream",
     "text": [
      "<class 'pandas.core.frame.DataFrame'>\n",
      "RangeIndex: 10127 entries, 0 to 10126\n",
      "Data columns (total 21 columns):\n",
      " #   Column                    Non-Null Count  Dtype  \n",
      "---  ------                    --------------  -----  \n",
      " 0   customer_age              10127 non-null  float64\n",
      " 1   dependent_count           10127 non-null  float64\n",
      " 2   months_on_book            10127 non-null  float64\n",
      " 3   total_relationship_count  10127 non-null  float64\n",
      " 4   months_inactive_12_mon    10127 non-null  float64\n",
      " 5   contacts_count_12_mon     10127 non-null  float64\n",
      " 6   credit_limit              10127 non-null  float64\n",
      " 7   total_revolving_bal       10127 non-null  float64\n",
      " 8   total_amt_chng_q4_q1      10127 non-null  float64\n",
      " 9   total_trans_amt           10127 non-null  float64\n",
      " 10  total_trans_ct            10127 non-null  float64\n",
      " 11  total_ct_chng_q4_q1       10127 non-null  float64\n",
      " 12  marital_status_Divorced   10127 non-null  float64\n",
      " 13  marital_status_Married    10127 non-null  float64\n",
      " 14  marital_status_Single     10127 non-null  float64\n",
      " 15  marital_status_Unknown    10127 non-null  float64\n",
      " 16  income_category           10127 non-null  float64\n",
      " 17  education_level           10127 non-null  float64\n",
      " 18  card_category             10127 non-null  float64\n",
      " 19  attrition_flag            10127 non-null  float64\n",
      " 20  avg_utilization_ratio     10127 non-null  float64\n",
      "dtypes: float64(21)\n",
      "memory usage: 1.6 MB\n"
     ]
    }
   ],
   "source": [
    "credicard_df_new.info()"
   ]
  },
  {
   "cell_type": "code",
   "execution_count": 45,
   "id": "53608e83-64f7-4b77-846e-e288f6afe8af",
   "metadata": {},
   "outputs": [
    {
     "data": {
      "text/html": [
       "<div>\n",
       "<style scoped>\n",
       "    .dataframe tbody tr th:only-of-type {\n",
       "        vertical-align: middle;\n",
       "    }\n",
       "\n",
       "    .dataframe tbody tr th {\n",
       "        vertical-align: top;\n",
       "    }\n",
       "\n",
       "    .dataframe thead th {\n",
       "        text-align: right;\n",
       "    }\n",
       "</style>\n",
       "<table border=\"1\" class=\"dataframe\">\n",
       "  <thead>\n",
       "    <tr style=\"text-align: right;\">\n",
       "      <th></th>\n",
       "      <th>customer_age</th>\n",
       "      <th>dependent_count</th>\n",
       "      <th>months_on_book</th>\n",
       "      <th>total_relationship_count</th>\n",
       "      <th>months_inactive_12_mon</th>\n",
       "      <th>contacts_count_12_mon</th>\n",
       "      <th>credit_limit</th>\n",
       "      <th>total_revolving_bal</th>\n",
       "      <th>total_amt_chng_q4_q1</th>\n",
       "      <th>total_trans_amt</th>\n",
       "      <th>...</th>\n",
       "      <th>total_ct_chng_q4_q1</th>\n",
       "      <th>marital_status_Divorced</th>\n",
       "      <th>marital_status_Married</th>\n",
       "      <th>marital_status_Single</th>\n",
       "      <th>marital_status_Unknown</th>\n",
       "      <th>income_category</th>\n",
       "      <th>education_level</th>\n",
       "      <th>card_category</th>\n",
       "      <th>attrition_flag</th>\n",
       "      <th>avg_utilization_ratio</th>\n",
       "    </tr>\n",
       "  </thead>\n",
       "  <tbody>\n",
       "    <tr>\n",
       "      <th>0</th>\n",
       "      <td>4.090909</td>\n",
       "      <td>1.5</td>\n",
       "      <td>4.333333</td>\n",
       "      <td>2.5</td>\n",
       "      <td>1.0</td>\n",
       "      <td>3.0</td>\n",
       "      <td>1.490866</td>\n",
       "      <td>0.545263</td>\n",
       "      <td>5.855263</td>\n",
       "      <td>0.442468</td>\n",
       "      <td>...</td>\n",
       "      <td>6.885593</td>\n",
       "      <td>0.0</td>\n",
       "      <td>1.0</td>\n",
       "      <td>0.0</td>\n",
       "      <td>0.0</td>\n",
       "      <td>3.0</td>\n",
       "      <td>2.0</td>\n",
       "      <td>0.0</td>\n",
       "      <td>0.0</td>\n",
       "      <td>0.061</td>\n",
       "    </tr>\n",
       "    <tr>\n",
       "      <th>1</th>\n",
       "      <td>4.454545</td>\n",
       "      <td>2.5</td>\n",
       "      <td>4.888889</td>\n",
       "      <td>3.0</td>\n",
       "      <td>1.0</td>\n",
       "      <td>2.0</td>\n",
       "      <td>0.969868</td>\n",
       "      <td>0.606316</td>\n",
       "      <td>6.758772</td>\n",
       "      <td>0.499323</td>\n",
       "      <td>...</td>\n",
       "      <td>15.737288</td>\n",
       "      <td>0.0</td>\n",
       "      <td>0.0</td>\n",
       "      <td>1.0</td>\n",
       "      <td>0.0</td>\n",
       "      <td>1.0</td>\n",
       "      <td>4.0</td>\n",
       "      <td>0.0</td>\n",
       "      <td>0.0</td>\n",
       "      <td>0.105</td>\n",
       "    </tr>\n",
       "    <tr>\n",
       "      <th>2</th>\n",
       "      <td>4.636364</td>\n",
       "      <td>1.5</td>\n",
       "      <td>4.000000</td>\n",
       "      <td>2.0</td>\n",
       "      <td>1.0</td>\n",
       "      <td>0.0</td>\n",
       "      <td>0.401527</td>\n",
       "      <td>0.000000</td>\n",
       "      <td>11.377193</td>\n",
       "      <td>0.729839</td>\n",
       "      <td>...</td>\n",
       "      <td>9.885593</td>\n",
       "      <td>0.0</td>\n",
       "      <td>1.0</td>\n",
       "      <td>0.0</td>\n",
       "      <td>0.0</td>\n",
       "      <td>4.0</td>\n",
       "      <td>4.0</td>\n",
       "      <td>0.0</td>\n",
       "      <td>0.0</td>\n",
       "      <td>0.000</td>\n",
       "    </tr>\n",
       "    <tr>\n",
       "      <th>3</th>\n",
       "      <td>3.636364</td>\n",
       "      <td>2.0</td>\n",
       "      <td>3.777778</td>\n",
       "      <td>1.5</td>\n",
       "      <td>4.0</td>\n",
       "      <td>1.0</td>\n",
       "      <td>0.389192</td>\n",
       "      <td>1.766316</td>\n",
       "      <td>6.162281</td>\n",
       "      <td>0.452910</td>\n",
       "      <td>...</td>\n",
       "      <td>9.885593</td>\n",
       "      <td>0.0</td>\n",
       "      <td>0.0</td>\n",
       "      <td>0.0</td>\n",
       "      <td>1.0</td>\n",
       "      <td>1.0</td>\n",
       "      <td>2.0</td>\n",
       "      <td>0.0</td>\n",
       "      <td>0.0</td>\n",
       "      <td>0.760</td>\n",
       "    </tr>\n",
       "    <tr>\n",
       "      <th>4</th>\n",
       "      <td>3.636364</td>\n",
       "      <td>1.5</td>\n",
       "      <td>2.333333</td>\n",
       "      <td>2.5</td>\n",
       "      <td>1.0</td>\n",
       "      <td>0.0</td>\n",
       "      <td>0.554009</td>\n",
       "      <td>0.000000</td>\n",
       "      <td>9.539474</td>\n",
       "      <td>0.315606</td>\n",
       "      <td>...</td>\n",
       "      <td>10.593220</td>\n",
       "      <td>0.0</td>\n",
       "      <td>1.0</td>\n",
       "      <td>0.0</td>\n",
       "      <td>0.0</td>\n",
       "      <td>3.0</td>\n",
       "      <td>1.0</td>\n",
       "      <td>0.0</td>\n",
       "      <td>0.0</td>\n",
       "      <td>0.000</td>\n",
       "    </tr>\n",
       "  </tbody>\n",
       "</table>\n",
       "<p>5 rows × 21 columns</p>\n",
       "</div>"
      ],
      "text/plain": [
       "   customer_age  dependent_count  months_on_book  total_relationship_count  \\\n",
       "0      4.090909              1.5        4.333333                       2.5   \n",
       "1      4.454545              2.5        4.888889                       3.0   \n",
       "2      4.636364              1.5        4.000000                       2.0   \n",
       "3      3.636364              2.0        3.777778                       1.5   \n",
       "4      3.636364              1.5        2.333333                       2.5   \n",
       "\n",
       "   months_inactive_12_mon  contacts_count_12_mon  credit_limit  \\\n",
       "0                     1.0                    3.0      1.490866   \n",
       "1                     1.0                    2.0      0.969868   \n",
       "2                     1.0                    0.0      0.401527   \n",
       "3                     4.0                    1.0      0.389192   \n",
       "4                     1.0                    0.0      0.554009   \n",
       "\n",
       "   total_revolving_bal  total_amt_chng_q4_q1  total_trans_amt  ...  \\\n",
       "0             0.545263              5.855263         0.442468  ...   \n",
       "1             0.606316              6.758772         0.499323  ...   \n",
       "2             0.000000             11.377193         0.729839  ...   \n",
       "3             1.766316              6.162281         0.452910  ...   \n",
       "4             0.000000              9.539474         0.315606  ...   \n",
       "\n",
       "   total_ct_chng_q4_q1  marital_status_Divorced  marital_status_Married  \\\n",
       "0             6.885593                      0.0                     1.0   \n",
       "1            15.737288                      0.0                     0.0   \n",
       "2             9.885593                      0.0                     1.0   \n",
       "3             9.885593                      0.0                     0.0   \n",
       "4            10.593220                      0.0                     1.0   \n",
       "\n",
       "   marital_status_Single  marital_status_Unknown  income_category  \\\n",
       "0                    0.0                     0.0              3.0   \n",
       "1                    1.0                     0.0              1.0   \n",
       "2                    0.0                     0.0              4.0   \n",
       "3                    0.0                     1.0              1.0   \n",
       "4                    0.0                     0.0              3.0   \n",
       "\n",
       "   education_level  card_category  attrition_flag  avg_utilization_ratio  \n",
       "0              2.0            0.0             0.0                  0.061  \n",
       "1              4.0            0.0             0.0                  0.105  \n",
       "2              4.0            0.0             0.0                  0.000  \n",
       "3              2.0            0.0             0.0                  0.760  \n",
       "4              1.0            0.0             0.0                  0.000  \n",
       "\n",
       "[5 rows x 21 columns]"
      ]
     },
     "execution_count": 45,
     "metadata": {},
     "output_type": "execute_result"
    }
   ],
   "source": [
    "credicard_df_new.head()"
   ]
  },
  {
   "cell_type": "code",
   "execution_count": 47,
   "id": "7b805ac9-eaf0-4814-a98c-774ab7e92e46",
   "metadata": {},
   "outputs": [
    {
     "data": {
      "text/plain": [
       "array([0., 1.])"
      ]
     },
     "execution_count": 47,
     "metadata": {},
     "output_type": "execute_result"
    }
   ],
   "source": [
    "credicard_df_new['attrition_flag'].unique()"
   ]
  },
  {
   "cell_type": "markdown",
   "id": "1b678215-e44e-44f5-839f-0f841c72bed4",
   "metadata": {},
   "source": [
    "#### 5.1.3 Split into Training and Testing datasets"
   ]
  },
  {
   "cell_type": "code",
   "execution_count": 50,
   "id": "47876e21-e82e-4d45-ae4c-49d89ff64745",
   "metadata": {},
   "outputs": [],
   "source": [
    "X = credicard_df_new.drop(columns=['attrition_flag'], axis=1)\n",
    "y = credicard_df_new['attrition_flag'].copy()\n",
    "\n",
    "X_train, X_test, y_train, y_test = train_test_split(X, y, test_size=0.2, stratify=y, random_state=42)"
   ]
  },
  {
   "cell_type": "code",
   "execution_count": 52,
   "id": "49e6039d-59d7-406f-b55f-d9d0cc4142a5",
   "metadata": {},
   "outputs": [
    {
     "name": "stdout",
     "output_type": "stream",
     "text": [
      "Train dataset [ X_train size : (8101, 20), y_train size : 8101]\n",
      "Test dataset [ X_test size : (2026, 20), y_test size : 2026]\n"
     ]
    }
   ],
   "source": [
    "print(f'Train dataset [ X_train size : {X_train.shape}, y_train size : {y_train.size}]')\n",
    "print(f'Test dataset [ X_test size : {X_test.shape}, y_test size : {y_test.size}]')"
   ]
  },
  {
   "cell_type": "markdown",
   "id": "9a32b6d6-28a7-482c-9231-68213ea8634d",
   "metadata": {},
   "source": [
    "### 5.2 Churn Predction Modeling Pipeline"
   ]
  },
  {
   "cell_type": "markdown",
   "id": "85ee2701-1f91-4667-8b25-9307aaaeb418",
   "metadata": {},
   "source": [
    "#### 5.2.1 Model Selection Approach "
   ]
  },
  {
   "cell_type": "markdown",
   "id": "a5b8877b-b074-4f3a-9059-922468d92083",
   "metadata": {},
   "source": [
    "##### **Considerable Classification Models For This Use Case** "
   ]
  },
  {
   "cell_type": "markdown",
   "id": "7e94b49c-e4a8-482f-a169-8fce341e1c7c",
   "metadata": {},
   "source": [
    "| Classification Model | Reason for considering |\n",
    "|:---|:---:|\n",
    "| Logistic Regression | Easy to interpret and helps business to understand why customers are churning |\n",
    "| Decision Tree | Can capture non-linear relationships |\n",
    "| Random Forest | Reduces the overfitting and improves the accuracy by combining the multiple decision trees|\n",
    "| Ensemble Methods <ul><li>AdaBoost</li><li>GBM</li><li>XGBoost</li><li>LightGBM</li></ul> | Achieves High Accuracy | \n"
   ]
  },
  {
   "cell_type": "markdown",
   "id": "663df313-9ad9-4004-bc84-5e492144d201",
   "metadata": {},
   "source": [
    "##### **Model Evaluations Measures**"
   ]
  },
  {
   "cell_type": "markdown",
   "id": "a3011daf-9b10-4ada-b700-8934fe93accf",
   "metadata": {},
   "source": [
    "| Evaluation Metric | Definition |\n",
    "|:---|:---:|\n",
    "| Accuracy | The overall correctness of the model's predictions |\n",
    "| Precision | The proposition of correctly predicted churned customers out of **all** customers predicted as churned |\n",
    "| Recall | The proportion of correctly predicted churned customers out of all **actual** churned customers |\n",
    "| F1-Score | The harmonic mean of precision and recall, provides a balanced measure for performance | \n",
    "| ROC-AUC | A measure of the model's ability to distinguish between customers across different probability thresholds | "
   ]
  },
  {
   "cell_type": "markdown",
   "id": "3bc878cf-2bb0-443f-9f1b-2efdb1f16c70",
   "metadata": {},
   "source": [
    "##### **Model Evaluation Criteria**\n",
    "\n",
    "- **False Negatives:** Model predicts the customer will *not* churn, but actually the customer churns\n",
    "  - These increases the missed opportunities for banks has direct impact on revenue loss prevention\n",
    "- **False Positives:** Model predicts the customer will churn, but actually the customer will *not* churn\n",
    "  - These incurs un necessary operational overhead"
   ]
  },
  {
   "cell_type": "markdown",
   "id": "5c69fc81-f98d-45ee-806e-988bbd88646d",
   "metadata": {},
   "source": [
    "##### **Aligning With Business Requirements**\n",
    "Based on above definitions, our clear goals for models selection criteria are\n",
    "- **Reduce** False Negatives, which selecting the model with high **recall** \n",
    "- Select the best performing model, so that bank can take required marketing steps to prevent potential customer churn prevention\n",
    "  - So focus on model performance and hyper parameter tuning\n",
    "- Also provide business insights regarding why customers are churning, so that banks can plan for required steps"
   ]
  },
  {
   "cell_type": "markdown",
   "id": "37bb33bd-6729-4efa-afa5-c07662590fc0",
   "metadata": {},
   "source": [
    "#### 5.2.2 Common Model Functions "
   ]
  },
  {
   "cell_type": "code",
   "execution_count": 63,
   "id": "ca4da22e-8a95-48c7-8eba-3acbfded63b1",
   "metadata": {},
   "outputs": [],
   "source": [
    "import pandas as pd\n",
    "from sklearn.model_selection import train_test_split\n",
    "from sklearn.metrics import accuracy_score, precision_score, recall_score, f1_score, roc_auc_score, classification_report, confusion_matrix\n",
    "from sklearn.linear_model import LogisticRegression\n",
    "from sklearn.svm import SVC\n",
    "from sklearn.tree import DecisionTreeClassifier\n",
    "from sklearn.ensemble import RandomForestClassifier\n",
    "from sklearn.ensemble import GradientBoostingClassifier\n",
    "from sklearn.ensemble import AdaBoostClassifier\n",
    "from xgboost import XGBClassifier\n",
    "import lightgbm as lightgbm\n",
    "\n",
    "\n",
    "\n",
    "def train_evaluate_classification_model(model, X_train, X_test, y_train, y_test):\n",
    "    \"\"\"\n",
    "    Trains the given model and captures the model performance metricsmance metrics.\n",
    "\n",
    "    Parameters:\n",
    "        model: An unfitted scikit-learn classification model instance.\n",
    "        X_train: Training features dataframe\n",
    "        X_test: Testing features dataframe\n",
    "        y_train: Training dataframe with target variable\n",
    "        y_test: Testing dataframe with target variable\n",
    "\n",
    "    Returns:\n",
    "        A dataFrame containing performance metrics (accuracy, precision, recall,\n",
    "        f1-score, roc_auc_score and confusion matrix, classification report.\n",
    "    \"\"\"\n",
    "    # Train the model\n",
    "    model.fit(X_train, y_train)\n",
    "\n",
    "    # Make predictions\n",
    "    y_pred = model.predict(X_test)\n",
    "\n",
    "    # Calculate performance metrics\n",
    "    accuracy = accuracy_score(y_test, y_pred)\n",
    "    precision = precision_score(y_test, y_pred, average='weighted')\n",
    "    recall = recall_score(y_test, y_pred, average='weighted')\n",
    "    f1 = f1_score(y_test, y_pred, average='weighted')\n",
    "    conf_matrix = confusion_matrix(y_test, y_pred)\n",
    "    class_report = classification_report(y_test, y_pred)\n",
    "\n",
    "    # Note: ROC AUC is typically used for binary classification.\n",
    "    # For multi-class classification, you may need to specify average='ovr' or 'weighted'\n",
    "    # or use multi-class ROC AUC implementations if available in the library.\n",
    "    # We'll include a placeholder for binary classification for completeness.\n",
    "    try:\n",
    "        roc_auc = roc_auc_score(y_test, model.predict_proba(X_test)[:, 1])\n",
    "    except AttributeError:  # Handle models that don't have predict_proba\n",
    "        roc_auc = None\n",
    "\n",
    "    perf_metrics = {\n",
    "        \"accuracy\": accuracy,\n",
    "        \"precision\": precision,\n",
    "        \"recall\": recall,\n",
    "        \"f1_score\": f1,\n",
    "        \"roc_auc_score\": roc_auc\n",
    "    }\n",
    "    return (perf_metrics, conf_matrix, class_report)\n",
    "\n",
    "\n",
    "def train_models(models, model_results, X_train, X_test, y_train, y_test):\n",
    "    '''\n",
    "    Trains the list of provided classification models\n",
    "    \n",
    "    Parameters:\n",
    "        model: An unfitted scikit-learn classification model instance\n",
    "        model_results: Dictionary of trained model performance results\n",
    "        X_train: Training features dataframe\n",
    "        X_test: Testing features dataframe\n",
    "        y_train: Training dataframe with target variable\n",
    "        y_test: Testing dataframe with target variable\n",
    "\n",
    "    Returns:\n",
    "        model_results: A dictionary containing performance metrics (accuracy, precision, recall,\n",
    "        f1-score, roc_auc_score and confusion matrix, classification report.\n",
    "    '''\n",
    "    for model in models:\n",
    "        (perf_metrics, conf_matrix, class_report) = train_evaluate_classification_model(models[model], X_train, X_test, y_train, y_test)\n",
    "        model_results[model] = perf_metrics\n",
    "    return model_results\n",
    "\n",
    "\n",
    "from sklearn.model_selection import cross_val_score\n",
    "from sklearn.model_selection import cross_validate\n",
    "from sklearn.model_selection import KFold\n",
    "\n",
    "def cross_validation_model_tranformations(models, X, y, kcv, scoring_metrics, model_results):\n",
    "    '''\n",
    "    Trains the list of provided classification models with cross validation\n",
    "    \n",
    "    Parameters:\n",
    "        model: An unfitted scikit-learn classification model instance\n",
    "        model_results: Dictionary of trained model performance results\n",
    "        X: Training features dataframe\n",
    "        y: Testing features dataframe\n",
    "        kcv: Number of folds for cross validation\n",
    "        scoring_metrics: List of scoring metrics\n",
    "\n",
    "    Returns:\n",
    "        model_results: A dictionary containing performance metrics (accuracy, precision, recall,\n",
    "        f1-score, roc_auc_score and confusion matrix, classification report.\n",
    "    '''\n",
    "    for model in models:\n",
    "        print(f'Applying Cross Validation for  {model}')\n",
    "        cv_scores = cross_validate(models[model], X, y, scoring=scoring_metrics, cv=kcv, return_train_score=True)\n",
    "        cv_mean_results = {}\n",
    "        for key in cv_scores.keys():\n",
    "            cv_mean_results[f'{key}_mean'] = np.round(np.mean(cv_scores[key]), 6)\n",
    "        model_results[model] = cv_mean_results\n",
    "        #print(f'model_results : {model_results}')\n",
    "    return model_results"
   ]
  },
  {
   "cell_type": "markdown",
   "id": "af1aee52-1c8b-4893-95b4-2bae97af8fb5",
   "metadata": {},
   "source": [
    "#### 5.2.3 Applying the Classification Models"
   ]
  },
  {
   "cell_type": "code",
   "execution_count": 66,
   "id": "d236e282-b69c-4a21-aff8-75bf13aa3b38",
   "metadata": {},
   "outputs": [
    {
     "data": {
      "text/html": [
       "<div>\n",
       "<style scoped>\n",
       "    .dataframe tbody tr th:only-of-type {\n",
       "        vertical-align: middle;\n",
       "    }\n",
       "\n",
       "    .dataframe tbody tr th {\n",
       "        vertical-align: top;\n",
       "    }\n",
       "\n",
       "    .dataframe thead th {\n",
       "        text-align: right;\n",
       "    }\n",
       "</style>\n",
       "<table border=\"1\" class=\"dataframe\">\n",
       "  <thead>\n",
       "    <tr style=\"text-align: right;\">\n",
       "      <th></th>\n",
       "      <th>accuracy</th>\n",
       "      <th>precision</th>\n",
       "      <th>recall</th>\n",
       "      <th>f1_score</th>\n",
       "      <th>roc_auc_score</th>\n",
       "    </tr>\n",
       "  </thead>\n",
       "  <tbody>\n",
       "    <tr>\n",
       "      <th>Logistic Regression</th>\n",
       "      <td>0.901777</td>\n",
       "      <td>0.895146</td>\n",
       "      <td>0.901777</td>\n",
       "      <td>0.893407</td>\n",
       "      <td>0.912603</td>\n",
       "    </tr>\n",
       "    <tr>\n",
       "      <th>Decistion Tree</th>\n",
       "      <td>0.938796</td>\n",
       "      <td>0.939274</td>\n",
       "      <td>0.938796</td>\n",
       "      <td>0.939021</td>\n",
       "      <td>0.890124</td>\n",
       "    </tr>\n",
       "    <tr>\n",
       "      <th>Random Forest</th>\n",
       "      <td>0.954590</td>\n",
       "      <td>0.953764</td>\n",
       "      <td>0.954590</td>\n",
       "      <td>0.952958</td>\n",
       "      <td>0.984233</td>\n",
       "    </tr>\n",
       "    <tr>\n",
       "      <th>GBM</th>\n",
       "      <td>0.963968</td>\n",
       "      <td>0.963849</td>\n",
       "      <td>0.963968</td>\n",
       "      <td>0.962701</td>\n",
       "      <td>0.987374</td>\n",
       "    </tr>\n",
       "    <tr>\n",
       "      <th>Adaboost</th>\n",
       "      <td>0.953603</td>\n",
       "      <td>0.952506</td>\n",
       "      <td>0.953603</td>\n",
       "      <td>0.952618</td>\n",
       "      <td>0.981092</td>\n",
       "    </tr>\n",
       "    <tr>\n",
       "      <th>Xgboost</th>\n",
       "      <td>0.963968</td>\n",
       "      <td>0.963327</td>\n",
       "      <td>0.963968</td>\n",
       "      <td>0.963279</td>\n",
       "      <td>0.992495</td>\n",
       "    </tr>\n",
       "    <tr>\n",
       "      <th>Light GBM</th>\n",
       "      <td>0.968904</td>\n",
       "      <td>0.968437</td>\n",
       "      <td>0.968904</td>\n",
       "      <td>0.968396</td>\n",
       "      <td>0.992699</td>\n",
       "    </tr>\n",
       "  </tbody>\n",
       "</table>\n",
       "</div>"
      ],
      "text/plain": [
       "                     accuracy  precision    recall  f1_score  roc_auc_score\n",
       "Logistic Regression  0.901777   0.895146  0.901777  0.893407       0.912603\n",
       "Decistion Tree       0.938796   0.939274  0.938796  0.939021       0.890124\n",
       "Random Forest        0.954590   0.953764  0.954590  0.952958       0.984233\n",
       "GBM                  0.963968   0.963849  0.963968  0.962701       0.987374\n",
       "Adaboost             0.953603   0.952506  0.953603  0.952618       0.981092\n",
       "Xgboost              0.963968   0.963327  0.963968  0.963279       0.992495\n",
       "Light GBM            0.968904   0.968437  0.968904  0.968396       0.992699"
      ]
     },
     "execution_count": 66,
     "metadata": {},
     "output_type": "execute_result"
    }
   ],
   "source": [
    "# Defining the list of models\n",
    "results = {}\n",
    "\n",
    "clf_models = {\n",
    "    'Logistic Regression' : LogisticRegression(),\n",
    "    'Decistion Tree' : DecisionTreeClassifier(random_state=42),\n",
    "    'Random Forest' : RandomForestClassifier(random_state=42),\n",
    "    'GBM': GradientBoostingClassifier(random_state=42),\n",
    "    'Adaboost': AdaBoostClassifier(random_state=42),\n",
    "    'Xgboost': XGBClassifier(random_state=42, eval_metric='logloss'),\n",
    "    'Light GBM': lightgbm.LGBMClassifier(random_state=42, verbosity=-1)\n",
    "}\n",
    "\n",
    "model_perf_results = train_models(clf_models, results, X_train, X_test, y_train, y_test)\n",
    "model_perf_results\n",
    "pd.DataFrame.from_dict(model_perf_results, orient='index')"
   ]
  },
  {
   "cell_type": "markdown",
   "id": "ce90d7b2-8977-4a1d-bb41-0fcf8ac3035f",
   "metadata": {},
   "source": [
    "#### 5.2.4 Applying Cross Validation Scores "
   ]
  },
  {
   "cell_type": "code",
   "execution_count": 69,
   "id": "ba49b901-6554-4e30-9b1e-11152a2b13e1",
   "metadata": {},
   "outputs": [
    {
     "name": "stdout",
     "output_type": "stream",
     "text": [
      "Applying Cross Validation for  Logistic Regression\n",
      "Applying Cross Validation for  Decistion Tree\n",
      "Applying Cross Validation for  Random Forest\n",
      "Applying Cross Validation for  GBM\n",
      "Applying Cross Validation for  Adaboost\n",
      "Applying Cross Validation for  Xgboost\n",
      "Applying Cross Validation for  Light GBM\n"
     ]
    },
    {
     "data": {
      "text/html": [
       "<div>\n",
       "<style scoped>\n",
       "    .dataframe tbody tr th:only-of-type {\n",
       "        vertical-align: middle;\n",
       "    }\n",
       "\n",
       "    .dataframe tbody tr th {\n",
       "        vertical-align: top;\n",
       "    }\n",
       "\n",
       "    .dataframe thead th {\n",
       "        text-align: right;\n",
       "    }\n",
       "</style>\n",
       "<table border=\"1\" class=\"dataframe\">\n",
       "  <thead>\n",
       "    <tr style=\"text-align: right;\">\n",
       "      <th></th>\n",
       "      <th>fit_time_mean</th>\n",
       "      <th>score_time_mean</th>\n",
       "      <th>test_accuracy_mean</th>\n",
       "      <th>train_accuracy_mean</th>\n",
       "      <th>test_precision_macro_mean</th>\n",
       "      <th>train_precision_macro_mean</th>\n",
       "      <th>test_recall_macro_mean</th>\n",
       "      <th>train_recall_macro_mean</th>\n",
       "      <th>test_f1_macro_mean</th>\n",
       "      <th>train_f1_macro_mean</th>\n",
       "      <th>test_roc_auc_mean</th>\n",
       "      <th>train_roc_auc_mean</th>\n",
       "    </tr>\n",
       "  </thead>\n",
       "  <tbody>\n",
       "    <tr>\n",
       "      <th>Logistic Regression</th>\n",
       "      <td>0.041794</td>\n",
       "      <td>0.004687</td>\n",
       "      <td>0.902933</td>\n",
       "      <td>0.903810</td>\n",
       "      <td>0.841011</td>\n",
       "      <td>0.843255</td>\n",
       "      <td>0.771524</td>\n",
       "      <td>0.773680</td>\n",
       "      <td>0.799526</td>\n",
       "      <td>0.802134</td>\n",
       "      <td>0.921847</td>\n",
       "      <td>0.923598</td>\n",
       "    </tr>\n",
       "    <tr>\n",
       "      <th>Decistion Tree</th>\n",
       "      <td>0.046742</td>\n",
       "      <td>0.003006</td>\n",
       "      <td>0.939272</td>\n",
       "      <td>1.000000</td>\n",
       "      <td>0.887911</td>\n",
       "      <td>1.000000</td>\n",
       "      <td>0.887273</td>\n",
       "      <td>1.000000</td>\n",
       "      <td>0.887234</td>\n",
       "      <td>1.000000</td>\n",
       "      <td>0.887273</td>\n",
       "      <td>1.000000</td>\n",
       "    </tr>\n",
       "    <tr>\n",
       "      <th>Random Forest</th>\n",
       "      <td>0.666998</td>\n",
       "      <td>0.014241</td>\n",
       "      <td>0.962477</td>\n",
       "      <td>0.999989</td>\n",
       "      <td>0.949492</td>\n",
       "      <td>0.999993</td>\n",
       "      <td>0.907028</td>\n",
       "      <td>0.999966</td>\n",
       "      <td>0.926497</td>\n",
       "      <td>0.999980</td>\n",
       "      <td>0.988095</td>\n",
       "      <td>1.000000</td>\n",
       "    </tr>\n",
       "    <tr>\n",
       "      <th>GBM</th>\n",
       "      <td>1.261468</td>\n",
       "      <td>0.004676</td>\n",
       "      <td>0.966427</td>\n",
       "      <td>0.974633</td>\n",
       "      <td>0.951885</td>\n",
       "      <td>0.966472</td>\n",
       "      <td>0.920918</td>\n",
       "      <td>0.937949</td>\n",
       "      <td>0.935383</td>\n",
       "      <td>0.951500</td>\n",
       "      <td>0.990011</td>\n",
       "      <td>0.994459</td>\n",
       "    </tr>\n",
       "    <tr>\n",
       "      <th>Adaboost</th>\n",
       "      <td>0.265162</td>\n",
       "      <td>0.008007</td>\n",
       "      <td>0.957640</td>\n",
       "      <td>0.961237</td>\n",
       "      <td>0.928955</td>\n",
       "      <td>0.935666</td>\n",
       "      <td>0.910982</td>\n",
       "      <td>0.918259</td>\n",
       "      <td>0.919563</td>\n",
       "      <td>0.926673</td>\n",
       "      <td>0.984819</td>\n",
       "      <td>0.989223</td>\n",
       "    </tr>\n",
       "    <tr>\n",
       "      <th>Xgboost</th>\n",
       "      <td>0.053996</td>\n",
       "      <td>0.004289</td>\n",
       "      <td>0.971168</td>\n",
       "      <td>1.000000</td>\n",
       "      <td>0.952356</td>\n",
       "      <td>1.000000</td>\n",
       "      <td>0.939808</td>\n",
       "      <td>1.000000</td>\n",
       "      <td>0.945770</td>\n",
       "      <td>1.000000</td>\n",
       "      <td>0.993809</td>\n",
       "      <td>1.000000</td>\n",
       "    </tr>\n",
       "    <tr>\n",
       "      <th>Light GBM</th>\n",
       "      <td>0.111218</td>\n",
       "      <td>0.005282</td>\n",
       "      <td>0.971068</td>\n",
       "      <td>0.999397</td>\n",
       "      <td>0.954274</td>\n",
       "      <td>0.998650</td>\n",
       "      <td>0.937192</td>\n",
       "      <td>0.999115</td>\n",
       "      <td>0.945319</td>\n",
       "      <td>0.998882</td>\n",
       "      <td>0.993978</td>\n",
       "      <td>0.999997</td>\n",
       "    </tr>\n",
       "  </tbody>\n",
       "</table>\n",
       "</div>"
      ],
      "text/plain": [
       "                     fit_time_mean  score_time_mean  test_accuracy_mean  \\\n",
       "Logistic Regression       0.041794         0.004687            0.902933   \n",
       "Decistion Tree            0.046742         0.003006            0.939272   \n",
       "Random Forest             0.666998         0.014241            0.962477   \n",
       "GBM                       1.261468         0.004676            0.966427   \n",
       "Adaboost                  0.265162         0.008007            0.957640   \n",
       "Xgboost                   0.053996         0.004289            0.971168   \n",
       "Light GBM                 0.111218         0.005282            0.971068   \n",
       "\n",
       "                     train_accuracy_mean  test_precision_macro_mean  \\\n",
       "Logistic Regression             0.903810                   0.841011   \n",
       "Decistion Tree                  1.000000                   0.887911   \n",
       "Random Forest                   0.999989                   0.949492   \n",
       "GBM                             0.974633                   0.951885   \n",
       "Adaboost                        0.961237                   0.928955   \n",
       "Xgboost                         1.000000                   0.952356   \n",
       "Light GBM                       0.999397                   0.954274   \n",
       "\n",
       "                     train_precision_macro_mean  test_recall_macro_mean  \\\n",
       "Logistic Regression                    0.843255                0.771524   \n",
       "Decistion Tree                         1.000000                0.887273   \n",
       "Random Forest                          0.999993                0.907028   \n",
       "GBM                                    0.966472                0.920918   \n",
       "Adaboost                               0.935666                0.910982   \n",
       "Xgboost                                1.000000                0.939808   \n",
       "Light GBM                              0.998650                0.937192   \n",
       "\n",
       "                     train_recall_macro_mean  test_f1_macro_mean  \\\n",
       "Logistic Regression                 0.773680            0.799526   \n",
       "Decistion Tree                      1.000000            0.887234   \n",
       "Random Forest                       0.999966            0.926497   \n",
       "GBM                                 0.937949            0.935383   \n",
       "Adaboost                            0.918259            0.919563   \n",
       "Xgboost                             1.000000            0.945770   \n",
       "Light GBM                           0.999115            0.945319   \n",
       "\n",
       "                     train_f1_macro_mean  test_roc_auc_mean  \\\n",
       "Logistic Regression             0.802134           0.921847   \n",
       "Decistion Tree                  1.000000           0.887273   \n",
       "Random Forest                   0.999980           0.988095   \n",
       "GBM                             0.951500           0.990011   \n",
       "Adaboost                        0.926673           0.984819   \n",
       "Xgboost                         1.000000           0.993809   \n",
       "Light GBM                       0.998882           0.993978   \n",
       "\n",
       "                     train_roc_auc_mean  \n",
       "Logistic Regression            0.923598  \n",
       "Decistion Tree                 1.000000  \n",
       "Random Forest                  1.000000  \n",
       "GBM                            0.994459  \n",
       "Adaboost                       0.989223  \n",
       "Xgboost                        1.000000  \n",
       "Light GBM                      0.999997  "
      ]
     },
     "execution_count": 69,
     "metadata": {},
     "output_type": "execute_result"
    }
   ],
   "source": [
    "folds = 10\n",
    "kcv = KFold(n_splits=folds, random_state=42, shuffle=True)\n",
    "cross_validation_results = {}\n",
    "scorings = ['accuracy', 'precision_macro', 'recall_macro', 'f1_macro', 'roc_auc']\n",
    "cross_validation_results = cross_validation_model_tranformations(clf_models, X, y, kcv, scorings, cross_validation_results)\n",
    "pd.DataFrame.from_dict(cross_validation_results, orient='index')"
   ]
  },
  {
   "cell_type": "markdown",
   "id": "53072f18-8490-467d-b25c-7a2bbae699ad",
   "metadata": {},
   "source": [
    "## 6. Model Performance Evaluation"
   ]
  },
  {
   "cell_type": "markdown",
   "id": "56a96dde-1fe4-42f2-8d6b-98252df24182",
   "metadata": {},
   "source": [
    "Based on Cross Validation Results trainging and testing scores\n",
    "- Light GBM is the best model with respect to `test recall score`=*0.937* and `train recall score`=*0.999*\n",
    "- Xgboost is also pretty close but it's train recall is *1.0* so mostly struggling with overfitting\n",
    "- The next best model is GBM w.r.t `test recall score`=0.921"
   ]
  },
  {
   "cell_type": "markdown",
   "id": "b2c42796-0da5-497a-ba9f-1b12e8fa3ddc",
   "metadata": {},
   "source": [
    "## 7. Hyperparameter Tuning"
   ]
  },
  {
   "cell_type": "markdown",
   "id": "9d68bd39-190a-49a4-8fa2-95d60d4ab45c",
   "metadata": {},
   "source": [
    "### Tuning By Using RandomizedSearchCV"
   ]
  },
  {
   "cell_type": "code",
   "execution_count": 74,
   "id": "d47d7f1c-fedc-4616-b93b-d922156df20b",
   "metadata": {},
   "outputs": [],
   "source": [
    "import xgboost as xgb\n",
    "from sklearn.model_selection import RandomizedSearchCV\n",
    "import scipy.stats as stats\n",
    "\n",
    "def hyperparam_tuing(model,X_train, y_train, param_dist, n_iter, cv, scoring):\n",
    "    '''\n",
    "        model : Model for which RandomizedSerachCV needs to be applied\n",
    "        param_dist: Input param distributions for SearchCV\n",
    "        n_iter: Number of tiers\n",
    "        cv: Cross Validation Folds\n",
    "        scoring: Intended score to use for SearchCV optimization\n",
    "\n",
    "        Returns:\n",
    "            best_params_ : List of tuned hyperparams\n",
    "            best_score_: Best score\n",
    "    '''\n",
    "    random_search = RandomizedSearchCV(model, param_distributions=param_dist, n_iter=n_iter, cv=cv, scoring=scoring)\n",
    "    random_search.fit(X_train, y_train)\n",
    "    return (random_search.best_params_, random_search.best_score_)"
   ]
  },
  {
   "cell_type": "markdown",
   "id": "253ac750-772f-43f7-9f91-960a11cb6d50",
   "metadata": {},
   "source": [
    "#### XGBoost Classifier Tuning"
   ]
  },
  {
   "cell_type": "code",
   "execution_count": 76,
   "id": "c35c3433-b636-48f2-8389-a8e865f4615e",
   "metadata": {},
   "outputs": [
    {
     "name": "stdout",
     "output_type": "stream",
     "text": [
      "Best set of hyperparameters  for XGBClassifier:  {'learning_rate': 0.05429443565752971, 'max_depth': 18, 'n_estimators': 196, 'subsample': 0.8456484336291479}\n",
      "Best score:  0.8878573533745946\n"
     ]
    }
   ],
   "source": [
    "# Hyperparameter distributions\n",
    "param_dist = {\n",
    "    'max_depth': stats.randint(4, 7, 12),\n",
    "    'n_estimators':stats.randint(50, 250),\n",
    "    'learning_rate': stats.uniform(0.01, 0.1),\n",
    "    'subsample': stats.uniform(0.5, 0.5)\n",
    "}\n",
    "\n",
    "# XGBoost model object\n",
    "xgb_model = xgb.XGBClassifier()\n",
    "\n",
    "(best_params, best_score) = hyperparam_tuing(xgb_model, X_train, y_train , param_dist, 10, 5, 'recall')\n",
    "print(\"Best set of hyperparameters  for XGBClassifier: \", best_params)\n",
    "print(\"Best score: \", best_score)"
   ]
  },
  {
   "cell_type": "markdown",
   "id": "735bf160-5900-4a22-9c13-8a93246e57cf",
   "metadata": {},
   "source": [
    "#### LGBM Tuning"
   ]
  },
  {
   "cell_type": "code",
   "execution_count": 78,
   "id": "d3fa8a8a-1893-4894-a008-344edd558b85",
   "metadata": {},
   "outputs": [
    {
     "name": "stdout",
     "output_type": "stream",
     "text": [
      "Best set of hyperparameters  for LGBMClassifier:  {'learning_rate': 0.09426614966474973, 'max_depth': 18, 'n_estimators': 175, 'subsample': 0.6001482708177934}\n",
      "Best score:  0.8924756852343059\n"
     ]
    }
   ],
   "source": [
    "grid_params = {\n",
    "    'max_depth': [2, 5, 8, 15],\n",
    "    'n_estimators': [100, 200],\n",
    "    'learning_rate': [0.01, 0.05, 0.1],\n",
    "    'num_leaves': [31, 63, 127],\n",
    "    'reg_alpha': [0.0, 0.1, 0.5],\n",
    "    'reg_lambda': [0.0, 0.1, 0.5]\n",
    "}\n",
    "\n",
    "lgb_model = lightgbm.LGBMClassifier(random_state=42, n_jobs=-1, verbosity=-1)\n",
    "\n",
    "\n",
    "(best_params, best_score) = hyperparam_tuing(xgb_model, X_train, y_train , param_dist, 10, 5, 'recall')\n",
    "print(\"Best set of hyperparameters  for LGBMClassifier: \", best_params)\n",
    "print(\"Best score: \", best_score)"
   ]
  },
  {
   "cell_type": "markdown",
   "id": "3338855c-a51c-4af9-a16a-32eee98f3e63",
   "metadata": {},
   "source": [
    "#### Applying these hyperparameter tunings to both XGB and LGBM"
   ]
  },
  {
   "cell_type": "code",
   "execution_count": 80,
   "id": "447b5eab-b6e8-487e-a185-7b7ec6d7c328",
   "metadata": {},
   "outputs": [
    {
     "name": "stdout",
     "output_type": "stream",
     "text": [
      "Applying Cross Validation for  Xgboost\n",
      "Applying Cross Validation for  Light GBM\n"
     ]
    },
    {
     "data": {
      "text/html": [
       "<div>\n",
       "<style scoped>\n",
       "    .dataframe tbody tr th:only-of-type {\n",
       "        vertical-align: middle;\n",
       "    }\n",
       "\n",
       "    .dataframe tbody tr th {\n",
       "        vertical-align: top;\n",
       "    }\n",
       "\n",
       "    .dataframe thead th {\n",
       "        text-align: right;\n",
       "    }\n",
       "</style>\n",
       "<table border=\"1\" class=\"dataframe\">\n",
       "  <thead>\n",
       "    <tr style=\"text-align: right;\">\n",
       "      <th></th>\n",
       "      <th>fit_time_mean</th>\n",
       "      <th>score_time_mean</th>\n",
       "      <th>test_accuracy_mean</th>\n",
       "      <th>train_accuracy_mean</th>\n",
       "      <th>test_precision_macro_mean</th>\n",
       "      <th>train_precision_macro_mean</th>\n",
       "      <th>test_recall_macro_mean</th>\n",
       "      <th>train_recall_macro_mean</th>\n",
       "      <th>test_f1_macro_mean</th>\n",
       "      <th>train_f1_macro_mean</th>\n",
       "      <th>test_roc_auc_mean</th>\n",
       "      <th>train_roc_auc_mean</th>\n",
       "    </tr>\n",
       "  </thead>\n",
       "  <tbody>\n",
       "    <tr>\n",
       "      <th>Xgboost</th>\n",
       "      <td>0.223986</td>\n",
       "      <td>0.006792</td>\n",
       "      <td>0.97255</td>\n",
       "      <td>1.0</td>\n",
       "      <td>0.957192</td>\n",
       "      <td>1.0</td>\n",
       "      <td>0.940115</td>\n",
       "      <td>1.0</td>\n",
       "      <td>0.948171</td>\n",
       "      <td>1.0</td>\n",
       "      <td>0.993548</td>\n",
       "      <td>1.0</td>\n",
       "    </tr>\n",
       "    <tr>\n",
       "      <th>Light GBM</th>\n",
       "      <td>0.193390</td>\n",
       "      <td>0.006623</td>\n",
       "      <td>0.97245</td>\n",
       "      <td>1.0</td>\n",
       "      <td>0.955996</td>\n",
       "      <td>1.0</td>\n",
       "      <td>0.941019</td>\n",
       "      <td>1.0</td>\n",
       "      <td>0.948134</td>\n",
       "      <td>1.0</td>\n",
       "      <td>0.994385</td>\n",
       "      <td>1.0</td>\n",
       "    </tr>\n",
       "  </tbody>\n",
       "</table>\n",
       "</div>"
      ],
      "text/plain": [
       "           fit_time_mean  score_time_mean  test_accuracy_mean  \\\n",
       "Xgboost         0.223986         0.006792             0.97255   \n",
       "Light GBM       0.193390         0.006623             0.97245   \n",
       "\n",
       "           train_accuracy_mean  test_precision_macro_mean  \\\n",
       "Xgboost                    1.0                   0.957192   \n",
       "Light GBM                  1.0                   0.955996   \n",
       "\n",
       "           train_precision_macro_mean  test_recall_macro_mean  \\\n",
       "Xgboost                           1.0                0.940115   \n",
       "Light GBM                         1.0                0.941019   \n",
       "\n",
       "           train_recall_macro_mean  test_f1_macro_mean  train_f1_macro_mean  \\\n",
       "Xgboost                        1.0            0.948171                  1.0   \n",
       "Light GBM                      1.0            0.948134                  1.0   \n",
       "\n",
       "           test_roc_auc_mean  train_roc_auc_mean  \n",
       "Xgboost             0.993548                 1.0  \n",
       "Light GBM           0.994385                 1.0  "
      ]
     },
     "execution_count": 80,
     "metadata": {},
     "output_type": "execute_result"
    }
   ],
   "source": [
    "tuned_clf_models = {\n",
    "    'Xgboost': XGBClassifier(random_state=42,\n",
    "                             learning_rate=0.07759162058961663, \n",
    "                             max_depth=16,\n",
    "                             n_estimators=220,\n",
    "                             subsample=0.7628042341964377),\n",
    "    'Light GBM': lightgbm.LGBMClassifier(random_state=42, \n",
    "                                         reg_lambda=0.0, \n",
    "                                         reg_alpha=0.0, \n",
    "                                         n_estimators=194, \n",
    "                                         max_depth=16, \n",
    "                                         learning_rate=0.06894569250654219, \n",
    "                                         subsample=0.7030220369901519,\n",
    "                                         verbosity=-1)\n",
    "}\n",
    "tuned_cross_validation_results = {}\n",
    "tuned_cross_validation_results = cross_validation_model_tranformations(tuned_clf_models, X, y, kcv, scorings, tuned_cross_validation_results)\n",
    "pd.DataFrame.from_dict(tuned_cross_validation_results, orient='index')"
   ]
  },
  {
   "cell_type": "markdown",
   "id": "b21c421c-bde4-4f3f-b9f7-a5d39b4aa62f",
   "metadata": {},
   "source": [
    "### Model Tuning by using Bayesian optimization\n",
    "\n",
    "As `GridSearchCV` and `RandomizedSearchCV` computationally expensive, so choosing *Bayesian optimization* for tuning"
   ]
  },
  {
   "cell_type": "markdown",
   "id": "d211af5f-7d59-4e93-b9ba-f9d83f7c5ccc",
   "metadata": {},
   "source": [
    "#### XGBoost Classifier"
   ]
  },
  {
   "cell_type": "code",
   "execution_count": 85,
   "id": "e32d48cc-87b2-4481-b6fe-b456c8b1a3fe",
   "metadata": {},
   "outputs": [
    {
     "name": "stdout",
     "output_type": "stream",
     "text": [
      "100%|██████| 100/100 [00:08<00:00, 12.04trial/s, best loss: -0.8707692307692307]\n",
      "Best set of hyperparameters for XGBClassifier:  {'learning_rate': 0.13257472177440668, 'max_depth': 12, 'subsample': 0.9837057421055491}\n"
     ]
    }
   ],
   "source": [
    "#%pip install hyperopt\n",
    "from hyperopt import STATUS_OK, Trials, fmin, hp, tpe\n",
    "\n",
    "# Hyperparameter space\n",
    "space = {\n",
    "    'max_depth': hp.choice('max_depth', np.arange(1, 14, dtype=int)),\n",
    "    'learning_rate': hp.loguniform('learning_rate', -5, -2),\n",
    "    'subsample': hp.uniform('subsample', 0.5, 1)\n",
    "}\n",
    "\n",
    "# Objective function to minimize the loss function\n",
    "def objective(params):\n",
    "    xgb_model = xgb.XGBClassifier(**params)\n",
    "    xgb_model.fit(X_train, y_train)\n",
    "    y_pred = xgb_model.predict(X_test)\n",
    "    score = recall_score(y_test, y_pred)\n",
    "    return {'loss': -score, 'status': STATUS_OK}\n",
    "\n",
    "# Perform the optimization\n",
    "best_params = fmin(objective, space, algo=tpe.suggest, max_evals=100)\n",
    "print(\"Best set of hyperparameters for XGBClassifier: \", best_params)"
   ]
  },
  {
   "cell_type": "code",
   "execution_count": 86,
   "id": "94814bc2-3000-4b9f-913d-a017e352082a",
   "metadata": {},
   "outputs": [
    {
     "name": "stdout",
     "output_type": "stream",
     "text": [
      "Applying Cross Validation for  Xgboost\n"
     ]
    },
    {
     "data": {
      "text/html": [
       "<div>\n",
       "<style scoped>\n",
       "    .dataframe tbody tr th:only-of-type {\n",
       "        vertical-align: middle;\n",
       "    }\n",
       "\n",
       "    .dataframe tbody tr th {\n",
       "        vertical-align: top;\n",
       "    }\n",
       "\n",
       "    .dataframe thead th {\n",
       "        text-align: right;\n",
       "    }\n",
       "</style>\n",
       "<table border=\"1\" class=\"dataframe\">\n",
       "  <thead>\n",
       "    <tr style=\"text-align: right;\">\n",
       "      <th></th>\n",
       "      <th>fit_time_mean</th>\n",
       "      <th>score_time_mean</th>\n",
       "      <th>test_accuracy_mean</th>\n",
       "      <th>train_accuracy_mean</th>\n",
       "      <th>test_precision_macro_mean</th>\n",
       "      <th>train_precision_macro_mean</th>\n",
       "      <th>test_recall_macro_mean</th>\n",
       "      <th>train_recall_macro_mean</th>\n",
       "      <th>test_f1_macro_mean</th>\n",
       "      <th>train_f1_macro_mean</th>\n",
       "      <th>test_roc_auc_mean</th>\n",
       "      <th>train_roc_auc_mean</th>\n",
       "    </tr>\n",
       "  </thead>\n",
       "  <tbody>\n",
       "    <tr>\n",
       "      <th>Xgboost</th>\n",
       "      <td>0.074441</td>\n",
       "      <td>0.009289</td>\n",
       "      <td>0.971266</td>\n",
       "      <td>0.997027</td>\n",
       "      <td>0.953344</td>\n",
       "      <td>0.99491</td>\n",
       "      <td>0.938996</td>\n",
       "      <td>0.994061</td>\n",
       "      <td>0.945807</td>\n",
       "      <td>0.994484</td>\n",
       "      <td>0.99342</td>\n",
       "      <td>0.999907</td>\n",
       "    </tr>\n",
       "  </tbody>\n",
       "</table>\n",
       "</div>"
      ],
      "text/plain": [
       "         fit_time_mean  score_time_mean  test_accuracy_mean  \\\n",
       "Xgboost       0.074441         0.009289            0.971266   \n",
       "\n",
       "         train_accuracy_mean  test_precision_macro_mean  \\\n",
       "Xgboost             0.997027                   0.953344   \n",
       "\n",
       "         train_precision_macro_mean  test_recall_macro_mean  \\\n",
       "Xgboost                     0.99491                0.938996   \n",
       "\n",
       "         train_recall_macro_mean  test_f1_macro_mean  train_f1_macro_mean  \\\n",
       "Xgboost                 0.994061            0.945807             0.994484   \n",
       "\n",
       "         test_roc_auc_mean  train_roc_auc_mean  \n",
       "Xgboost            0.99342            0.999907  "
      ]
     },
     "execution_count": 86,
     "metadata": {},
     "output_type": "execute_result"
    }
   ],
   "source": [
    "# 'reg_lambda': 0.0, 'reg_alpha': 0.0, 'num_leaves': 63, 'n_estimators': 200, 'max_depth': 5, 'learning_rate': 0.1\n",
    "tuned_clf_models = {\n",
    "    'Xgboost': XGBClassifier(random_state=42, eval_metric='logloss', learning_rate=0.10998145653268011, max_depth=7, subsample=0.5468375595731814)\n",
    "}\n",
    "tuned_cross_validation_results = {}\n",
    "tuned_cross_validation_results = cross_validation_model_tranformations(tuned_clf_models, X, y, kcv, scorings, tuned_cross_validation_results)\n",
    "pd.DataFrame.from_dict(tuned_cross_validation_results, orient='index')"
   ]
  },
  {
   "cell_type": "markdown",
   "id": "e33443dd-cc87-4427-95aa-7600513ce820",
   "metadata": {},
   "source": [
    "## 8. Results\n",
    "\n",
    "- Based on the above results, as LGBM is outperforming across other classification models, so finalizing this model for credit card churn prediction\n",
    "- Just to note `RandomizedSearchCV` and `Bayesian optimization` hyperparameter tuning,test/validation scores improved for both LGBM and XGB models\n",
    "  - Also we can observe that for Xgboost, the overfitting issue got resolved"
   ]
  },
  {
   "cell_type": "markdown",
   "id": "8e37f458-f333-4bfc-8f34-a381b3c86712",
   "metadata": {},
   "source": [
    "### 8.1 Each Individual Feature on LGBM Model Prediction"
   ]
  },
  {
   "cell_type": "code",
   "execution_count": 89,
   "id": "2e5da4b6-07b7-4840-b7d9-2f50be9d40e3",
   "metadata": {},
   "outputs": [
    {
     "data": {
      "image/png": "[encoded data removed]",
      "text/plain": [
       "<Figure size 800x950 with 2 Axes>"
      ]
     },
     "metadata": {},
     "output_type": "display_data"
    }
   ],
   "source": [
    "#%pip install shap\n",
    "import shap\n",
    "\n",
    "lgb_model = lightgbm.LGBMClassifier(random_state=42, \n",
    "                                         reg_lambda=0.0, \n",
    "                                         reg_alpha=0.0, \n",
    "                                         n_estimators=194, \n",
    "                                         max_depth=16, \n",
    "                                         learning_rate=0.06894569250654219, \n",
    "                                         subsample=0.7030220369901519,\n",
    "                                         verbosity=-1)\n",
    "lgb_model.fit(X_train, y_train)\n",
    "shap_values = shap.TreeExplainer(lgb_model).shap_values(X_test)\n",
    "shap.summary_plot(shap_values, X_test)"
   ]
  },
  {
   "cell_type": "markdown",
   "id": "e6d9c735-a1cc-46c8-bdd1-31dbc7cdc7ef",
   "metadata": {},
   "source": [
    "### 8.2 Results Summary\n",
    "Below are the list of features by their churn prediction impact (By high influence to low influence)\n",
    "- **total_trans_ct:** Negatively impacted, the lower the value the higher chances to get churned \n",
    "- **total_trans_amt:** Negatively impacted, the lower the value the higher chances to get churned \n",
    "- **total_revolving_bal:** Negatively impacted, the lower the value the higher chances to get churned \n",
    "- **total_amt_chng_q4_q1:** Negatively impacted, the lower the value the higher chances to get churned \n",
    "- **months_inactive_12_mon:** Positively impacted, the higher the value the higher the chances to get churned\n",
    "- **total_relationship_count:** Negatively impacted, the lower the value the higher chances to get churned \n",
    "- **total_amt_chng_q4_q1:** Negatively impacted, the lower the value the higher chances to get churned \n",
    "- Remaining all features don't have much impact on prediction "
   ]
  },
  {
   "cell_type": "markdown",
   "id": "9b77f0d3-6ba0-4b02-a1eb-cb27b0c91e83",
   "metadata": {},
   "source": [
    "## 9. Future Work"
   ]
  },
  {
   "cell_type": "markdown",
   "id": "adc01c8d-4ba8-4a48-b8b7-ac1d478f48ee",
   "metadata": {},
   "source": [
    "- Explore more on Hyperparameter tuning for LGBM to optimize the `recall` metric\n",
    "- Explore more on SHAP library for more detailed feature understanding for providing feature impact summary to business"
   ]
  },
  {
   "cell_type": "markdown",
   "id": "62c09113-f8fe-4692-9c37-e7cbd6666764",
   "metadata": {},
   "source": [
    "## 10. Conclusion"
   ]
  },
  {
   "cell_type": "markdown",
   "id": "7c4136e8-5787-4de6-b683-f21df60025ff",
   "metadata": {},
   "source": [
    "- LGBM is the best model for prediction\n",
    "- Bank should engage with customers with less transaction count\n",
    " - Provide more cashback offers, so that customer will get more engaged and it reduces the chances of churn\n",
    " - Provide more offers for the customers who is inactive in past 12 months"
   ]
  },
  {
   "cell_type": "code",
   "execution_count": null,
   "id": "6089859a-af29-45cc-afa5-03f4b75945cc",
   "metadata": {},
   "outputs": [],
   "source": []
  }
 ],
 "metadata": {
  "kernelspec": {
   "display_name": "Python 3 (ipykernel)",
   "language": "python",
   "name": "python3"
  },
  "language_info": {
   "codemirror_mode": {
    "name": "ipython",
    "version": 3
   },
   "file_extension": ".py",
   "mimetype": "text/x-python",
   "name": "python",
   "nbconvert_exporter": "python",
   "pygments_lexer": "ipython3",
   "version": "3.12.7"
  }
 },
 "nbformat": 4,
 "nbformat_minor": 5
}
